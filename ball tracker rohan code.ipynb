{
 "cells": [
  {
   "cell_type": "code",
   "execution_count": 1,
   "id": "c88a31e0",
   "metadata": {},
   "outputs": [],
   "source": [
    "import cv2\n",
    "import numpy as np\n",
    "\n",
    "# Read the template image (ball)\n",
    "template = cv2.imread('/Users/rohanshenoy/Desktop/python/plsworkdaddy/usingthisrn.png', 0)  # Provide the path to your template image\n",
    "\n",
    "# Load the video\n",
    "cap = cv2.VideoCapture('/Users/rohanshenoy/Downloads/volleyball_match.mp4')  # Provide the path to your video file\n",
    "\n",
    "# Get the width and height of the template\n",
    "w, h = template.shape[::-1]\n",
    "\n",
    "# Define lower and upper bounds for HSV range\n",
    "lower_hsv = np.array([13, 100, 190])  # Adjust as needed\n",
    "upper_hsv = np.array([30, 255, 255])  # Adjust as needed\n",
    "\n",
    "while cap.isOpened():\n",
    "    # Read a frame from the video\n",
    "    ret, frame = cap.read()\n",
    "    if not ret:\n",
    "        break\n",
    "\n",
    "    # Convert the frame to HSV color space\n",
    "    frame_hsv = cv2.cvtColor(frame, cv2.COLOR_BGR2HSV)\n",
    "\n",
    "    # Check if HSV values lie within the specified range\n",
    "    mask = cv2.inRange(frame_hsv, lower_hsv, upper_hsv)\n",
    "\n",
    "    # Perform template matching only on masked region\n",
    "    result = cv2.matchTemplate(mask, template, cv2.TM_CCOEFF_NORMED)\n",
    "\n",
    "    # Define a threshold\n",
    "    threshold = 0.45\n",
    "\n",
    "    # Find locations where the correlation coefficient is greater than the threshold\n",
    "    locations = np.where(result >= threshold)\n",
    "\n",
    "    # Iterate over all matched locations\n",
    "    for loc in zip(*locations[::-1]):\n",
    "        # Draw a rectangle around the matched region\n",
    "        cv2.rectangle(frame, loc, (loc[0] + w, loc[1] + h), (0, 255, 0), 2)\n",
    "\n",
    "    # Display the frame with the detected ball if HSV values are within range\n",
    "    if cv2.countNonZero(mask) > 0:  # Check if there are non-zero pixels in the mask\n",
    "        cv2.imshow('Frame', frame)\n",
    "\n",
    "    # Check for key press, and break the loop if 'q' is pressed\n",
    "    if cv2.waitKey(25) & 0xFF == ord('q'):\n",
    "        break\n",
    "\n",
    "# Release the video capture object and close all windows\n",
    "cap.release()\n",
    "cv2.destroyAllWindows()\n"
   ]
  },
  {
   "cell_type": "code",
   "execution_count": null,
   "id": "c3ae088e",
   "metadata": {},
   "outputs": [],
   "source": []
  },
  {
   "cell_type": "code",
   "execution_count": null,
   "id": "10d27925",
   "metadata": {},
   "outputs": [],
   "source": []
  }
 ],
 "metadata": {
  "kernelspec": {
   "display_name": "Python 3 (ipykernel)",
   "language": "python",
   "name": "python3"
  },
  "language_info": {
   "codemirror_mode": {
    "name": "ipython",
    "version": 3
   },
   "file_extension": ".py",
   "mimetype": "text/x-python",
   "name": "python",
   "nbconvert_exporter": "python",
   "pygments_lexer": "ipython3",
   "version": "3.11.5"
  }
 },
 "nbformat": 4,
 "nbformat_minor": 5
}
